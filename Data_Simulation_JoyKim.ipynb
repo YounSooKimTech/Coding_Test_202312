{
  "nbformat": 4,
  "nbformat_minor": 0,
  "metadata": {
    "colab": {
      "provenance": [],
      "authorship_tag": "ABX9TyPhutB7HIPblqOKOrIBz5V8",
      "include_colab_link": true
    },
    "kernelspec": {
      "name": "python3",
      "display_name": "Python 3"
    },
    "language_info": {
      "name": "python"
    }
  },
  "cells": [
    {
      "cell_type": "markdown",
      "metadata": {
        "id": "view-in-github",
        "colab_type": "text"
      },
      "source": [
        "<a href=\"https://colab.research.google.com/github/YounSooKimTech/Coding_Test_202312/blob/main/Data_Simulation_JoyKim.ipynb\" target=\"_parent\"><img src=\"https://colab.research.google.com/assets/colab-badge.svg\" alt=\"Open In Colab\"/></a>"
      ]
    },
    {
      "cell_type": "markdown",
      "source": [
        "# Written by Joy Kim\n",
        "\n",
        "\n",
        "# Reference Papers:\n",
        "- Saelee, R., Zell, E., Murthy, B. P., Castro-Roman, P., Fast, H., Meng, L., ... & Murthy, N. (2022). Disparities in COVID-19 vaccination coverage between urban and rural counties—United States, December 14, 2020–January 31, 2022. Morbidity and Mortality Weekly Report, 71(9), 335.\n",
        "\n",
        "- Lomeli, A., Escoto, A. A., Reyes, B., Burola, M. L. M., Tinoco-Calvillo, S., Villegas, I., ... & Seifert, M. (2023). Factors associated with COVID-19 vaccine uptake in a US/Mexico border community: demographics, previous influenza vaccination, and trusted sources of health information. Frontiers in Public Health, 11."
      ],
      "metadata": {
        "id": "4m0b1P6l6H5a"
      }
    },
    {
      "cell_type": "markdown",
      "source": [
        "## Baseline Survey Data"
      ],
      "metadata": {
        "id": "exprMRHB6JJn"
      }
    },
    {
      "cell_type": "code",
      "execution_count": null,
      "metadata": {
        "colab": {
          "base_uri": "https://localhost:8080/"
        },
        "id": "5krusbDm58H-",
        "outputId": "99766c7e-d8f7-4aa9-ba1e-2edc480819da"
      },
      "outputs": [
        {
          "output_type": "stream",
          "name": "stdout",
          "text": [
            "1    1008\n",
            "2    1018\n",
            "3     979\n",
            "4    1027\n",
            "5     968\n",
            "Name: Before_Perception, dtype: int64\n"
          ]
        }
      ],
      "source": [
        "# Create baseline data through a random process.\n",
        "# The ratios (p) of demographic variables are determined from the American Community Survey or the US Census Dataset.\n",
        "\n",
        "import pandas as pd\n",
        "import numpy as np\n",
        "\n",
        "np.random.seed(123)\n",
        "\n",
        "baseline = pd.DataFrame({\n",
        "    'ID': range(1, 5001),\n",
        "    'Age': np.random.randint(18, 65, 5000),\n",
        "    'Sex': np.random.choice(['Male', 'Female'], 5000, p=[0.5, 0.5]),\n",
        "    'Ethnicity': np.random.choice([\"White\", \"Black\", \"Latino\", \"Asian\", \"Others\"], 5000, p=[0.6, 0.12, 0.19, 0.06, 0.03]),\n",
        "    'University_Degree': np.random.choice([\"No\",\"Yes\"], 5000,p=[0.7, 0.3]),\n",
        "    'Flu_Vaccination_History': np.random.choice(['No', 'Yes'], 5000, p=[0.5, 0.5]),\n",
        "    'Living_Area': np.random.choice(['Rural', 'Urban'], 5000, p=[0.2, 0.8]),\n",
        "    'Before_Perception':np.random.randint(1, 6, 5000)\n",
        "})\n",
        "\n",
        "print(baseline['Before_Perception'].value_counts().sort_index())\n",
        "\n",
        "# Save the data\n",
        "baseline.to_csv(\"baseline_survey.csv\", index=False)"
      ]
    },
    {
      "cell_type": "markdown",
      "source": [
        "## Random Assignment for 5000 participants"
      ],
      "metadata": {
        "id": "FhJVMq3c6Kva"
      }
    },
    {
      "cell_type": "code",
      "source": [
        "# Random assignment:\n",
        "# Participants are equally randomly assigned to the reason, emotion, and control groups.\n",
        "\n",
        "random_assignment = pd.DataFrame({\n",
        "    'ID': range(1, 5001),\n",
        "    'Group': np.random.choice(['Reason', 'Emotion', 'Control'], 5000, p=[1/3, 1/3, 1/3])\n",
        "})\n",
        "\n",
        "print(random_assignment[\"Group\"].value_counts())\n",
        "\n",
        "# Save the data\n",
        "random_assignment.to_csv(\"random_survey.csv\", index=False)"
      ],
      "metadata": {
        "colab": {
          "base_uri": "https://localhost:8080/"
        },
        "id": "n-wKZDQd6WcR",
        "outputId": "bdb63b59-d2a4-4058-d013-a213c76da3a8"
      },
      "execution_count": null,
      "outputs": [
        {
          "output_type": "stream",
          "name": "stdout",
          "text": [
            "Control    1689\n",
            "Emotion    1675\n",
            "Reason     1636\n",
            "Name: Group, dtype: int64\n"
          ]
        }
      ]
    },
    {
      "cell_type": "markdown",
      "source": [
        "## Endline Survey"
      ],
      "metadata": {
        "id": "sZVKU2cl6cjt"
      }
    },
    {
      "cell_type": "code",
      "source": [
        "# Two dependent variables (DVs) are used.\n",
        "# Likelihood represents the intention of behavior, where 5 indicates the highest likelihood of vaccination and 1 indicates the least likelihood.\n",
        "# Actual Vaccination represents the behavior of getting vaccinated within one year.\n",
        "# It is assumed that this study can include a follow-up with up to 4500 people.\n",
        "\n",
        "endline = pd.DataFrame({\n",
        "    'ID':np.random.choice(range(1, 5001), 4500, replace=False),\n",
        "    'After_Perception':np.random.randint(1, 6, 4500),\n",
        "    'Vaccinated':np.random.choice([1, 0], 4500)\n",
        "})\n",
        "\n",
        "print(endline['After_Perception'].value_counts().sort_index())\n",
        "\n",
        "# Save the data\n",
        "endline.to_csv(\"endline_survey.csv\", index=False)"
      ],
      "metadata": {
        "colab": {
          "base_uri": "https://localhost:8080/"
        },
        "id": "pi1K1kID6f6M",
        "outputId": "5670166d-978c-44ce-e1cc-b47a0e529038"
      },
      "execution_count": null,
      "outputs": [
        {
          "output_type": "stream",
          "name": "stdout",
          "text": [
            "1    906\n",
            "2    925\n",
            "3    927\n",
            "4    870\n",
            "5    872\n",
            "Name: After_Perception, dtype: int64\n"
          ]
        }
      ]
    }
  ]
}